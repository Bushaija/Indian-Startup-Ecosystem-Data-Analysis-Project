{
 "cells": [
  {
   "cell_type": "markdown",
   "metadata": {},
   "source": [
    "# Indian Startup Ecosystem for 2019"
   ]
  },
  {
   "cell_type": "markdown",
   "metadata": {},
   "source": [
    "For importing libraries necessary for the project, and for basic preprocessing functions \n",
    "\n",
    "We're going to import commonly used Data Science libraries, so make sure they're available for your Python set-up."
   ]
  },
  {
   "cell_type": "markdown",
   "metadata": {},
   "source": [
    "Sections Included:\n",
    "\n",
    "- Imports\n",
    "- Data Loading\n",
    "- Data Exploration\n",
    "- Data Cleaning"
   ]
  },
  {
   "cell_type": "markdown",
   "metadata": {},
   "source": [
    "## Imports"
   ]
  },
  {
   "cell_type": "markdown",
   "metadata": {},
   "source": [
    "For importing libraries necessary for the project, and for basic preprocessing functions"
   ]
  },
  {
   "cell_type": "code",
   "execution_count": 2,
   "metadata": {},
   "outputs": [],
   "source": [
    "# Import libraries necessary for projects\n",
    "import numpy as np\n",
    "import pandas as pd \n",
    "\n",
    "# import visualization libraries\n",
    "import seaborn as sns\n",
    "import matplotlib.pyplot as plt \n",
    "\n",
    "# pretty display for notebooks\n",
    "%matplotlib inline\n",
    "\n",
    "# visualize missing data\n",
    "import missingno as msno\n",
    "\n",
    "# imputation approach\n",
    "from sklearn.impute import SimpleImputer"
   ]
  },
  {
   "attachments": {},
   "cell_type": "markdown",
   "metadata": {},
   "source": [
    "## Data Loading"
   ]
  },
  {
   "cell_type": "markdown",
   "metadata": {},
   "source": [
    "For loading data files into appropriate variables."
   ]
  },
  {
   "cell_type": "code",
   "execution_count": 3,
   "metadata": {},
   "outputs": [],
   "source": [
    "# Loading the data file (ex: csv) using pandas\n",
    "data_2019 = pd.read_csv('../data/csv/startup_funding2019.csv')"
   ]
  },
  {
   "attachments": {},
   "cell_type": "markdown",
   "metadata": {},
   "source": [
    "## Data Exploration"
   ]
  },
  {
   "attachments": {},
   "cell_type": "markdown",
   "metadata": {},
   "source": [
    "Section for **exploratory analysis** on the available data. \n",
    "\n",
    "The exploration techniques vary for numerical, categorical, or time-series variables. Currently, \n",
    "\n",
    "Here we typically:\n",
    "\n",
    "- look at example records in the dataset\n",
    "- investigate the datatypes of variables in the dataset\n",
    "- calculate and investigate descriptive statistics (ex: central tendencies, variability etc.)\n",
    "\n",
    "Common steps to check the health of the data:\n",
    "\n",
    "- Check for missing data\n",
    "- Check the skewness of the data, outlier detection\n",
    "- etc..."
   ]
  },
  {
   "cell_type": "markdown",
   "metadata": {},
   "source": [
    "### Look at Example Records"
   ]
  },
  {
   "cell_type": "code",
   "execution_count": 4,
   "metadata": {},
   "outputs": [
    {
     "data": {
      "text/html": [
       "<div>\n",
       "<style scoped>\n",
       "    .dataframe tbody tr th:only-of-type {\n",
       "        vertical-align: middle;\n",
       "    }\n",
       "\n",
       "    .dataframe tbody tr th {\n",
       "        vertical-align: top;\n",
       "    }\n",
       "\n",
       "    .dataframe thead th {\n",
       "        text-align: right;\n",
       "    }\n",
       "</style>\n",
       "<table border=\"1\" class=\"dataframe\">\n",
       "  <thead>\n",
       "    <tr style=\"text-align: right;\">\n",
       "      <th></th>\n",
       "      <th>Company/Brand</th>\n",
       "      <th>Founded</th>\n",
       "      <th>HeadQuarter</th>\n",
       "      <th>Sector</th>\n",
       "      <th>What it does</th>\n",
       "      <th>Founders</th>\n",
       "      <th>Investor</th>\n",
       "      <th>Amount($)</th>\n",
       "      <th>Stage</th>\n",
       "    </tr>\n",
       "  </thead>\n",
       "  <tbody>\n",
       "    <tr>\n",
       "      <th>68</th>\n",
       "      <td>Licious</td>\n",
       "      <td>2015.0</td>\n",
       "      <td>Bangalore</td>\n",
       "      <td>Food</td>\n",
       "      <td>Online meat shop</td>\n",
       "      <td>Vivek Gupta, Abhay Hanjura</td>\n",
       "      <td>Vertex Ventures</td>\n",
       "      <td>$25,000,000</td>\n",
       "      <td>Series D</td>\n",
       "    </tr>\n",
       "    <tr>\n",
       "      <th>80</th>\n",
       "      <td>Ola</td>\n",
       "      <td>2010.0</td>\n",
       "      <td>Bangalore</td>\n",
       "      <td>Transportation</td>\n",
       "      <td>It enables one to book cab online</td>\n",
       "      <td>Bhavish Aggarwal, Ankit Bhati</td>\n",
       "      <td>Kia Motors, Hyundai</td>\n",
       "      <td>$311,000,000</td>\n",
       "      <td>NaN</td>\n",
       "    </tr>\n",
       "    <tr>\n",
       "      <th>72</th>\n",
       "      <td>CarDekho</td>\n",
       "      <td>2008.0</td>\n",
       "      <td>Jaipur</td>\n",
       "      <td>Automobile</td>\n",
       "      <td>Enables people to buy and sell new/old cars.</td>\n",
       "      <td>Amit Jain</td>\n",
       "      <td>Ping An Global Voyager Fund, Hillhouse Capital...</td>\n",
       "      <td>$70,000,000</td>\n",
       "      <td>Series D</td>\n",
       "    </tr>\n",
       "    <tr>\n",
       "      <th>67</th>\n",
       "      <td>Cuemath</td>\n",
       "      <td>2013.0</td>\n",
       "      <td>Bangalore</td>\n",
       "      <td>Edtech</td>\n",
       "      <td>It helps students to learn math online</td>\n",
       "      <td>Manan Khurma</td>\n",
       "      <td>Manta Ray Ventures Limited, Google’s Capital G...</td>\n",
       "      <td>$5,500,000</td>\n",
       "      <td>NaN</td>\n",
       "    </tr>\n",
       "    <tr>\n",
       "      <th>9</th>\n",
       "      <td>Lenskart</td>\n",
       "      <td>2010.0</td>\n",
       "      <td>Delhi</td>\n",
       "      <td>E-commerce</td>\n",
       "      <td>It is a eyewear company</td>\n",
       "      <td>Peyush Bansal, Amit Chaudhary, Sumeet Kapahi</td>\n",
       "      <td>SoftBank</td>\n",
       "      <td>$275,000,000</td>\n",
       "      <td>Series G</td>\n",
       "    </tr>\n",
       "    <tr>\n",
       "      <th>49</th>\n",
       "      <td>Awign Enterprises</td>\n",
       "      <td>2016.0</td>\n",
       "      <td>Bangalore</td>\n",
       "      <td>NaN</td>\n",
       "      <td>It supplies workforce to the economy</td>\n",
       "      <td>Annanya Sarthak, Gurpreet Singh, Praveen Sah</td>\n",
       "      <td>Work10M, Michael and Susan Dell Foundation, Ea...</td>\n",
       "      <td>$4,000,000</td>\n",
       "      <td>Series A</td>\n",
       "    </tr>\n",
       "    <tr>\n",
       "      <th>62</th>\n",
       "      <td>PiBeam</td>\n",
       "      <td>NaN</td>\n",
       "      <td>Chennai</td>\n",
       "      <td>Automotive tech</td>\n",
       "      <td>It is engaged in building sustainable and affo...</td>\n",
       "      <td>Visakh Sasikumar</td>\n",
       "      <td>GAIL (India) Ltd</td>\n",
       "      <td>$50,000,000</td>\n",
       "      <td>NaN</td>\n",
       "    </tr>\n",
       "    <tr>\n",
       "      <th>5</th>\n",
       "      <td>FlytBase</td>\n",
       "      <td>NaN</td>\n",
       "      <td>Pune</td>\n",
       "      <td>Technology</td>\n",
       "      <td>A drone automation platform</td>\n",
       "      <td>Nitin Gupta</td>\n",
       "      <td>Undisclosed</td>\n",
       "      <td>Undisclosed</td>\n",
       "      <td>NaN</td>\n",
       "    </tr>\n",
       "    <tr>\n",
       "      <th>77</th>\n",
       "      <td>Sarva</td>\n",
       "      <td>NaN</td>\n",
       "      <td>Chennai</td>\n",
       "      <td>Yoga &amp; wellness</td>\n",
       "      <td>It drives a cultural change in making yoga-bas...</td>\n",
       "      <td>Sarvesh Shashi</td>\n",
       "      <td>Venture fund, Fireside Ventures.</td>\n",
       "      <td>$2,800,000</td>\n",
       "      <td>NaN</td>\n",
       "    </tr>\n",
       "    <tr>\n",
       "      <th>6</th>\n",
       "      <td>Finly</td>\n",
       "      <td>NaN</td>\n",
       "      <td>Bangalore</td>\n",
       "      <td>SaaS</td>\n",
       "      <td>It builds software products that makes work si...</td>\n",
       "      <td>Vivek AG, Veekshith C Rai</td>\n",
       "      <td>Social Capital, AngelList India, Gemba Capital...</td>\n",
       "      <td>Undisclosed</td>\n",
       "      <td>NaN</td>\n",
       "    </tr>\n",
       "  </tbody>\n",
       "</table>\n",
       "</div>"
      ],
      "text/plain": [
       "        Company/Brand  Founded HeadQuarter           Sector  \\\n",
       "68            Licious   2015.0   Bangalore             Food   \n",
       "80                Ola   2010.0   Bangalore   Transportation   \n",
       "72           CarDekho   2008.0      Jaipur       Automobile   \n",
       "67            Cuemath   2013.0   Bangalore           Edtech   \n",
       "9            Lenskart   2010.0       Delhi       E-commerce   \n",
       "49  Awign Enterprises   2016.0   Bangalore              NaN   \n",
       "62             PiBeam      NaN     Chennai  Automotive tech   \n",
       "5            FlytBase      NaN        Pune       Technology   \n",
       "77              Sarva      NaN     Chennai  Yoga & wellness   \n",
       "6               Finly      NaN   Bangalore             SaaS   \n",
       "\n",
       "                                         What it does  \\\n",
       "68                                   Online meat shop   \n",
       "80                  It enables one to book cab online   \n",
       "72       Enables people to buy and sell new/old cars.   \n",
       "67             It helps students to learn math online   \n",
       "9                             It is a eyewear company   \n",
       "49               It supplies workforce to the economy   \n",
       "62  It is engaged in building sustainable and affo...   \n",
       "5                         A drone automation platform   \n",
       "77  It drives a cultural change in making yoga-bas...   \n",
       "6   It builds software products that makes work si...   \n",
       "\n",
       "                                        Founders  \\\n",
       "68                    Vivek Gupta, Abhay Hanjura   \n",
       "80                 Bhavish Aggarwal, Ankit Bhati   \n",
       "72                                     Amit Jain   \n",
       "67                                  Manan Khurma   \n",
       "9   Peyush Bansal, Amit Chaudhary, Sumeet Kapahi   \n",
       "49  Annanya Sarthak, Gurpreet Singh, Praveen Sah   \n",
       "62                              Visakh Sasikumar   \n",
       "5                                    Nitin Gupta   \n",
       "77                                Sarvesh Shashi   \n",
       "6                      Vivek AG, Veekshith C Rai   \n",
       "\n",
       "                                             Investor     Amount($)     Stage  \n",
       "68                                    Vertex Ventures   $25,000,000  Series D  \n",
       "80                                Kia Motors, Hyundai  $311,000,000       NaN  \n",
       "72  Ping An Global Voyager Fund, Hillhouse Capital...   $70,000,000  Series D  \n",
       "67  Manta Ray Ventures Limited, Google’s Capital G...    $5,500,000       NaN  \n",
       "9                                            SoftBank  $275,000,000  Series G  \n",
       "49  Work10M, Michael and Susan Dell Foundation, Ea...    $4,000,000  Series A  \n",
       "62                                   GAIL (India) Ltd   $50,000,000       NaN  \n",
       "5                                         Undisclosed   Undisclosed       NaN  \n",
       "77                   Venture fund, Fireside Ventures.    $2,800,000       NaN  \n",
       "6   Social Capital, AngelList India, Gemba Capital...   Undisclosed       NaN  "
      ]
     },
     "execution_count": 4,
     "metadata": {},
     "output_type": "execute_result"
    }
   ],
   "source": [
    " # display 10 random rows from the dataset \n",
    "data_2019.sample(10)"
   ]
  },
  {
   "cell_type": "markdown",
   "metadata": {},
   "source": [
    "### Data-types, completeness Information\n",
    "\n",
    "Using the Pandas \"info\" function, in addition to the data-type information for the dataset, we can look at counts of available records/missing records too."
   ]
  },
  {
   "cell_type": "code",
   "execution_count": 5,
   "metadata": {},
   "outputs": [
    {
     "name": "stdout",
     "output_type": "stream",
     "text": [
      "<class 'pandas.core.frame.DataFrame'>\n",
      "RangeIndex: 89 entries, 0 to 88\n",
      "Data columns (total 9 columns):\n",
      " #   Column         Non-Null Count  Dtype  \n",
      "---  ------         --------------  -----  \n",
      " 0   Company/Brand  89 non-null     object \n",
      " 1   Founded        60 non-null     float64\n",
      " 2   HeadQuarter    70 non-null     object \n",
      " 3   Sector         84 non-null     object \n",
      " 4   What it does   89 non-null     object \n",
      " 5   Founders       86 non-null     object \n",
      " 6   Investor       89 non-null     object \n",
      " 7   Amount($)      89 non-null     object \n",
      " 8   Stage          43 non-null     object \n",
      "dtypes: float64(1), object(8)\n",
      "memory usage: 6.4+ KB\n"
     ]
    }
   ],
   "source": [
    "data_2019.info()"
   ]
  },
  {
   "attachments": {},
   "cell_type": "markdown",
   "metadata": {},
   "source": [
    "### comprehensive summary of missing data in the dataset\n",
    "This approach allows you to easily identify columns with a high percentage of missing values, which may require further investigation or imputation strategies."
   ]
  },
  {
   "cell_type": "code",
   "execution_count": 6,
   "metadata": {},
   "outputs": [
    {
     "name": "stdout",
     "output_type": "stream",
     "text": [
      "               Missing Values  Percentage Missing\n",
      "Company/Brand               0            0.000000\n",
      "Founded                    29           32.584270\n",
      "HeadQuarter                19           21.348315\n",
      "Sector                      5            5.617978\n",
      "What it does                0            0.000000\n",
      "Founders                    3            3.370787\n",
      "Investor                    0            0.000000\n",
      "Amount($)                   0            0.000000\n",
      "Stage                      46           51.685393\n"
     ]
    }
   ],
   "source": [
    "# Calculate the count of missing values for each column\n",
    "missing_values = data_2019.isnull().sum()\n",
    "\n",
    "# Calculate the total number of rows in the dataset\n",
    "total_rows = len(data_2019)\n",
    "\n",
    "# Calculate the percentage of missing values for each column\n",
    "percentage_missing = (missing_values / total_rows) * 100\n",
    "\n",
    "# Create a DataFrame to display the missing values count and percentage for each column\n",
    "missing_data_summary = pd.DataFrame({\n",
    "    'Missing Values': missing_values,\n",
    "    'Percentage Missing': percentage_missing\n",
    "})\n",
    "\n",
    "# Print the missing data summary\n",
    "print(missing_data_summary)"
   ]
  },
  {
   "attachments": {},
   "cell_type": "markdown",
   "metadata": {},
   "source": [
    "### Descriptive Statistics"
   ]
  },
  {
   "cell_type": "code",
   "execution_count": 7,
   "metadata": {},
   "outputs": [
    {
     "data": {
      "text/html": [
       "<div>\n",
       "<style scoped>\n",
       "    .dataframe tbody tr th:only-of-type {\n",
       "        vertical-align: middle;\n",
       "    }\n",
       "\n",
       "    .dataframe tbody tr th {\n",
       "        vertical-align: top;\n",
       "    }\n",
       "\n",
       "    .dataframe thead th {\n",
       "        text-align: right;\n",
       "    }\n",
       "</style>\n",
       "<table border=\"1\" class=\"dataframe\">\n",
       "  <thead>\n",
       "    <tr style=\"text-align: right;\">\n",
       "      <th></th>\n",
       "      <th>Company/Brand</th>\n",
       "      <th>Founded</th>\n",
       "      <th>HeadQuarter</th>\n",
       "      <th>Sector</th>\n",
       "      <th>What it does</th>\n",
       "      <th>Founders</th>\n",
       "      <th>Investor</th>\n",
       "      <th>Amount($)</th>\n",
       "      <th>Stage</th>\n",
       "    </tr>\n",
       "  </thead>\n",
       "  <tbody>\n",
       "    <tr>\n",
       "      <th>count</th>\n",
       "      <td>89</td>\n",
       "      <td>60.000000</td>\n",
       "      <td>70</td>\n",
       "      <td>84</td>\n",
       "      <td>89</td>\n",
       "      <td>86</td>\n",
       "      <td>89</td>\n",
       "      <td>89</td>\n",
       "      <td>43</td>\n",
       "    </tr>\n",
       "    <tr>\n",
       "      <th>unique</th>\n",
       "      <td>87</td>\n",
       "      <td>NaN</td>\n",
       "      <td>17</td>\n",
       "      <td>52</td>\n",
       "      <td>88</td>\n",
       "      <td>85</td>\n",
       "      <td>86</td>\n",
       "      <td>50</td>\n",
       "      <td>15</td>\n",
       "    </tr>\n",
       "    <tr>\n",
       "      <th>top</th>\n",
       "      <td>Kratikal</td>\n",
       "      <td>NaN</td>\n",
       "      <td>Bangalore</td>\n",
       "      <td>Edtech</td>\n",
       "      <td>Online meat shop</td>\n",
       "      <td>Vivek Gupta, Abhay Hanjura</td>\n",
       "      <td>Undisclosed</td>\n",
       "      <td>Undisclosed</td>\n",
       "      <td>Series A</td>\n",
       "    </tr>\n",
       "    <tr>\n",
       "      <th>freq</th>\n",
       "      <td>2</td>\n",
       "      <td>NaN</td>\n",
       "      <td>21</td>\n",
       "      <td>7</td>\n",
       "      <td>2</td>\n",
       "      <td>2</td>\n",
       "      <td>3</td>\n",
       "      <td>12</td>\n",
       "      <td>10</td>\n",
       "    </tr>\n",
       "    <tr>\n",
       "      <th>mean</th>\n",
       "      <td>NaN</td>\n",
       "      <td>2014.533333</td>\n",
       "      <td>NaN</td>\n",
       "      <td>NaN</td>\n",
       "      <td>NaN</td>\n",
       "      <td>NaN</td>\n",
       "      <td>NaN</td>\n",
       "      <td>NaN</td>\n",
       "      <td>NaN</td>\n",
       "    </tr>\n",
       "    <tr>\n",
       "      <th>std</th>\n",
       "      <td>NaN</td>\n",
       "      <td>2.937003</td>\n",
       "      <td>NaN</td>\n",
       "      <td>NaN</td>\n",
       "      <td>NaN</td>\n",
       "      <td>NaN</td>\n",
       "      <td>NaN</td>\n",
       "      <td>NaN</td>\n",
       "      <td>NaN</td>\n",
       "    </tr>\n",
       "    <tr>\n",
       "      <th>min</th>\n",
       "      <td>NaN</td>\n",
       "      <td>2004.000000</td>\n",
       "      <td>NaN</td>\n",
       "      <td>NaN</td>\n",
       "      <td>NaN</td>\n",
       "      <td>NaN</td>\n",
       "      <td>NaN</td>\n",
       "      <td>NaN</td>\n",
       "      <td>NaN</td>\n",
       "    </tr>\n",
       "    <tr>\n",
       "      <th>25%</th>\n",
       "      <td>NaN</td>\n",
       "      <td>2013.000000</td>\n",
       "      <td>NaN</td>\n",
       "      <td>NaN</td>\n",
       "      <td>NaN</td>\n",
       "      <td>NaN</td>\n",
       "      <td>NaN</td>\n",
       "      <td>NaN</td>\n",
       "      <td>NaN</td>\n",
       "    </tr>\n",
       "    <tr>\n",
       "      <th>50%</th>\n",
       "      <td>NaN</td>\n",
       "      <td>2015.000000</td>\n",
       "      <td>NaN</td>\n",
       "      <td>NaN</td>\n",
       "      <td>NaN</td>\n",
       "      <td>NaN</td>\n",
       "      <td>NaN</td>\n",
       "      <td>NaN</td>\n",
       "      <td>NaN</td>\n",
       "    </tr>\n",
       "    <tr>\n",
       "      <th>75%</th>\n",
       "      <td>NaN</td>\n",
       "      <td>2016.250000</td>\n",
       "      <td>NaN</td>\n",
       "      <td>NaN</td>\n",
       "      <td>NaN</td>\n",
       "      <td>NaN</td>\n",
       "      <td>NaN</td>\n",
       "      <td>NaN</td>\n",
       "      <td>NaN</td>\n",
       "    </tr>\n",
       "    <tr>\n",
       "      <th>max</th>\n",
       "      <td>NaN</td>\n",
       "      <td>2019.000000</td>\n",
       "      <td>NaN</td>\n",
       "      <td>NaN</td>\n",
       "      <td>NaN</td>\n",
       "      <td>NaN</td>\n",
       "      <td>NaN</td>\n",
       "      <td>NaN</td>\n",
       "      <td>NaN</td>\n",
       "    </tr>\n",
       "  </tbody>\n",
       "</table>\n",
       "</div>"
      ],
      "text/plain": [
       "       Company/Brand      Founded HeadQuarter  Sector      What it does  \\\n",
       "count             89    60.000000          70      84                89   \n",
       "unique            87          NaN          17      52                88   \n",
       "top         Kratikal          NaN   Bangalore  Edtech  Online meat shop   \n",
       "freq               2          NaN          21       7                 2   \n",
       "mean             NaN  2014.533333         NaN     NaN               NaN   \n",
       "std              NaN     2.937003         NaN     NaN               NaN   \n",
       "min              NaN  2004.000000         NaN     NaN               NaN   \n",
       "25%              NaN  2013.000000         NaN     NaN               NaN   \n",
       "50%              NaN  2015.000000         NaN     NaN               NaN   \n",
       "75%              NaN  2016.250000         NaN     NaN               NaN   \n",
       "max              NaN  2019.000000         NaN     NaN               NaN   \n",
       "\n",
       "                          Founders     Investor    Amount($)     Stage  \n",
       "count                           86           89           89        43  \n",
       "unique                          85           86           50        15  \n",
       "top     Vivek Gupta, Abhay Hanjura  Undisclosed  Undisclosed  Series A  \n",
       "freq                             2            3           12        10  \n",
       "mean                           NaN          NaN          NaN       NaN  \n",
       "std                            NaN          NaN          NaN       NaN  \n",
       "min                            NaN          NaN          NaN       NaN  \n",
       "25%                            NaN          NaN          NaN       NaN  \n",
       "50%                            NaN          NaN          NaN       NaN  \n",
       "75%                            NaN          NaN          NaN       NaN  \n",
       "max                            NaN          NaN          NaN       NaN  "
      ]
     },
     "execution_count": 7,
     "metadata": {},
     "output_type": "execute_result"
    }
   ],
   "source": [
    "# Descriptive statistics for all columns\n",
    "data_2019.describe(include='all')"
   ]
  },
  {
   "attachments": {},
   "cell_type": "markdown",
   "metadata": {},
   "source": [
    "### Variables in the dataset"
   ]
  },
  {
   "cell_type": "code",
   "execution_count": 8,
   "metadata": {},
   "outputs": [
    {
     "data": {
      "text/plain": [
       "Index(['Company/Brand', 'Founded', 'HeadQuarter', 'Sector', 'What it does',\n",
       "       'Founders', 'Investor', 'Amount($)', 'Stage'],\n",
       "      dtype='object')"
      ]
     },
     "execution_count": 8,
     "metadata": {},
     "output_type": "execute_result"
    }
   ],
   "source": [
    "# check the columns \n",
    "data_2019.columns"
   ]
  },
  {
   "cell_type": "markdown",
   "metadata": {},
   "source": [
    "### Outlier Detection"
   ]
  },
  {
   "cell_type": "markdown",
   "metadata": {},
   "source": [
    "The presence of outliers can often skew results which take into consideration these data points. \n",
    "\n",
    "One approach to detect outliers is to use Tukey's Method for identfying them: An outlier step is calculated as 1.5 times the interquartile range (IQR). A data point with a feature that is beyond an outlier step outside of the IQR for that feature is considered abnormal.\n",
    "\n",
    "One such pipeline for detecting outliers is below:"
   ]
  },
  {
   "cell_type": "code",
   "execution_count": 9,
   "metadata": {},
   "outputs": [],
   "source": [
    "def find_outliers(data, features_to_investigate):\n",
    "    outliers = []\n",
    "    \n",
    "    for feature in features_to_investigate:\n",
    "        Q1 = np.percentile(data[feature], 25)\n",
    "        Q3 = np.percentile(data[feature], 75)\n",
    "        step = (Q3 - Q1) * 1.5\n",
    "        out = data[~((data[feature] >= Q1 - step) & (data[feature] <= Q3 + step))]\n",
    "        outliers.extend(out.index.values)\n",
    "        \n",
    "    outliers = list(set([x for x in outliers if outliers.count(x) > 1]))\n",
    "    \n",
    "    return outliers"
   ]
  },
  {
   "attachments": {},
   "cell_type": "markdown",
   "metadata": {},
   "source": [
    "## Data Cleaning"
   ]
  },
  {
   "attachments": {},
   "cell_type": "markdown",
   "metadata": {},
   "source": [
    "### Renaming columns"
   ]
  },
  {
   "cell_type": "code",
   "execution_count": 10,
   "metadata": {},
   "outputs": [],
   "source": [
    "# define the new column names\n",
    "new_columns = ['Company Name', 'Year Founded', 'Headquarter', 'Sector', 'Business Description', 'Founders', 'Investor', 'Funding Amount ($)', 'Funding Round']\n",
    "\n",
    "# Rename the columns in the dataframe\n",
    "data_2019 = data_2019.rename(columns=dict(zip(data_2019.columns, new_columns)))"
   ]
  },
  {
   "cell_type": "code",
   "execution_count": 11,
   "metadata": {},
   "outputs": [
    {
     "data": {
      "text/html": [
       "<div>\n",
       "<style scoped>\n",
       "    .dataframe tbody tr th:only-of-type {\n",
       "        vertical-align: middle;\n",
       "    }\n",
       "\n",
       "    .dataframe tbody tr th {\n",
       "        vertical-align: top;\n",
       "    }\n",
       "\n",
       "    .dataframe thead th {\n",
       "        text-align: right;\n",
       "    }\n",
       "</style>\n",
       "<table border=\"1\" class=\"dataframe\">\n",
       "  <thead>\n",
       "    <tr style=\"text-align: right;\">\n",
       "      <th></th>\n",
       "      <th>Company Name</th>\n",
       "      <th>Year Founded</th>\n",
       "      <th>Headquarter</th>\n",
       "      <th>Sector</th>\n",
       "      <th>Business Description</th>\n",
       "      <th>Founders</th>\n",
       "      <th>Investor</th>\n",
       "      <th>Funding Amount ($)</th>\n",
       "      <th>Funding Round</th>\n",
       "    </tr>\n",
       "  </thead>\n",
       "  <tbody>\n",
       "    <tr>\n",
       "      <th>0</th>\n",
       "      <td>Bombay Shaving</td>\n",
       "      <td>NaN</td>\n",
       "      <td>NaN</td>\n",
       "      <td>Ecommerce</td>\n",
       "      <td>Provides a range of male grooming products</td>\n",
       "      <td>Shantanu Deshpande</td>\n",
       "      <td>Sixth Sense Ventures</td>\n",
       "      <td>$6,300,000</td>\n",
       "      <td>NaN</td>\n",
       "    </tr>\n",
       "    <tr>\n",
       "      <th>1</th>\n",
       "      <td>Ruangguru</td>\n",
       "      <td>2014.0</td>\n",
       "      <td>Mumbai</td>\n",
       "      <td>Edtech</td>\n",
       "      <td>A learning platform that provides topic-based ...</td>\n",
       "      <td>Adamas Belva Syah Devara, Iman Usman.</td>\n",
       "      <td>General Atlantic</td>\n",
       "      <td>$150,000,000</td>\n",
       "      <td>Series C</td>\n",
       "    </tr>\n",
       "    <tr>\n",
       "      <th>2</th>\n",
       "      <td>Eduisfun</td>\n",
       "      <td>NaN</td>\n",
       "      <td>Mumbai</td>\n",
       "      <td>Edtech</td>\n",
       "      <td>It aims to make learning fun via games.</td>\n",
       "      <td>Jatin Solanki</td>\n",
       "      <td>Deepak Parekh, Amitabh Bachchan, Piyush Pandey</td>\n",
       "      <td>$28,000,000</td>\n",
       "      <td>Fresh funding</td>\n",
       "    </tr>\n",
       "    <tr>\n",
       "      <th>3</th>\n",
       "      <td>HomeLane</td>\n",
       "      <td>2014.0</td>\n",
       "      <td>Chennai</td>\n",
       "      <td>Interior design</td>\n",
       "      <td>Provides interior designing solutions</td>\n",
       "      <td>Srikanth Iyer, Rama Harinath</td>\n",
       "      <td>Evolvence India Fund (EIF), Pidilite Group, FJ...</td>\n",
       "      <td>$30,000,000</td>\n",
       "      <td>Series D</td>\n",
       "    </tr>\n",
       "    <tr>\n",
       "      <th>4</th>\n",
       "      <td>Nu Genes</td>\n",
       "      <td>2004.0</td>\n",
       "      <td>Telangana</td>\n",
       "      <td>AgriTech</td>\n",
       "      <td>It is a seed company engaged in production, pr...</td>\n",
       "      <td>Narayana Reddy Punyala</td>\n",
       "      <td>Innovation in Food and Agriculture (IFA)</td>\n",
       "      <td>$6,000,000</td>\n",
       "      <td>NaN</td>\n",
       "    </tr>\n",
       "  </tbody>\n",
       "</table>\n",
       "</div>"
      ],
      "text/plain": [
       "     Company Name  Year Founded Headquarter           Sector  \\\n",
       "0  Bombay Shaving           NaN         NaN        Ecommerce   \n",
       "1       Ruangguru        2014.0      Mumbai           Edtech   \n",
       "2        Eduisfun           NaN      Mumbai           Edtech   \n",
       "3        HomeLane        2014.0     Chennai  Interior design   \n",
       "4        Nu Genes        2004.0   Telangana         AgriTech   \n",
       "\n",
       "                                Business Description  \\\n",
       "0         Provides a range of male grooming products   \n",
       "1  A learning platform that provides topic-based ...   \n",
       "2            It aims to make learning fun via games.   \n",
       "3              Provides interior designing solutions   \n",
       "4  It is a seed company engaged in production, pr...   \n",
       "\n",
       "                                Founders  \\\n",
       "0                     Shantanu Deshpande   \n",
       "1  Adamas Belva Syah Devara, Iman Usman.   \n",
       "2                          Jatin Solanki   \n",
       "3           Srikanth Iyer, Rama Harinath   \n",
       "4                 Narayana Reddy Punyala   \n",
       "\n",
       "                                            Investor Funding Amount ($)  \\\n",
       "0                               Sixth Sense Ventures         $6,300,000   \n",
       "1                                   General Atlantic       $150,000,000   \n",
       "2     Deepak Parekh, Amitabh Bachchan, Piyush Pandey        $28,000,000   \n",
       "3  Evolvence India Fund (EIF), Pidilite Group, FJ...        $30,000,000   \n",
       "4           Innovation in Food and Agriculture (IFA)         $6,000,000   \n",
       "\n",
       "   Funding Round  \n",
       "0            NaN  \n",
       "1       Series C  \n",
       "2  Fresh funding  \n",
       "3       Series D  \n",
       "4            NaN  "
      ]
     },
     "execution_count": 11,
     "metadata": {},
     "output_type": "execute_result"
    }
   ],
   "source": [
    "data_2019.head()"
   ]
  },
  {
   "attachments": {},
   "cell_type": "markdown",
   "metadata": {},
   "source": [
    "### Investigating missing Values"
   ]
  },
  {
   "cell_type": "code",
   "execution_count": 12,
   "metadata": {},
   "outputs": [
    {
     "name": "stdout",
     "output_type": "stream",
     "text": [
      "\n",
      "The total missing values:  102\n",
      "\n",
      "Company Name             0\n",
      "Year Founded            29\n",
      "Headquarter             19\n",
      "Sector                   5\n",
      "Business Description     0\n",
      "Founders                 3\n",
      "Investor                 0\n",
      "Funding Amount ($)       0\n",
      "Funding Round           46\n",
      "dtype: int64\n"
     ]
    }
   ],
   "source": [
    "# total missing values\n",
    "print(\"\\nThe total missing values: \", data_2019.isnull().sum().sum())\n",
    "print(\"\")\n",
    "\n",
    "# missing values per column\n",
    "print(data_2019.isnull().sum())"
   ]
  },
  {
   "attachments": {},
   "cell_type": "markdown",
   "metadata": {},
   "source": [
    "#### Visualizing missing values"
   ]
  },
  {
   "cell_type": "code",
   "execution_count": 13,
   "metadata": {},
   "outputs": [],
   "source": [
    "def plot_missing_values_heatmap(dataframe):\n",
    "    # Creating a DataFrame indicating missing values\n",
    "    missing_values = dataframe.isnull()\n",
    "    # Plotting the missing values heatmap\n",
    "    sns.heatmap(missing_values, cmap='viridis')\n",
    "    # Setting plot properties\n",
    "    plt.title('Missing Values Heatmap')\n",
    "    plt.xlabel('Columns')\n",
    "    plt.ylabel('Rows')\n",
    "    # Display the plot\n",
    "    plt.show()"
   ]
  },
  {
   "cell_type": "code",
   "execution_count": 14,
   "metadata": {},
   "outputs": [
    {
     "data": {
      "image/png": "[encoded data removed]",
      "text/plain": [
       "<Figure size 640x480 with 2 Axes>"
      ]
     },
     "metadata": {},
     "output_type": "display_data"
    }
   ],
   "source": [
    "plot_missing_values_heatmap(data_2019)"
   ]
  },
  {
   "attachments": {},
   "cell_type": "markdown",
   "metadata": {},
   "source": [
    "## Exploration Data Analysis"
   ]
  },
  {
   "cell_type": "code",
   "execution_count": 15,
   "metadata": {},
   "outputs": [],
   "source": [
    "# Function to calculate descriptive statistics of a variable\n",
    "def calculate_descriptive_stats(variable):\n",
    "    return variable.describe()\n",
    "\n",
    "# Function to plot the data distribution of a variable using a histogram\n",
    "def plot_data_distribution(variable):\n",
    "    plt.hist(variable)\n",
    "    plt.xlabel('Values')\n",
    "    plt.ylabel('Frequency')\n",
    "    plt.title('Histogram')\n",
    "    plt.show()\n",
    "\n",
    "# Function to check for missing values in a variable\n",
    "def check_missing_values(variable):\n",
    "    return variable.isnull().sum()\n",
    "\n",
    "# check for duplicates of categorical values\n",
    "def check_categorical_duplicates(data, variable):\n",
    "    duplicates = data[variable].duplicated()\n",
    "    duplicated_rows = data[duplicates]\n",
    "    print('\\n\\n')\n",
    "    print(\"Number of duplicates in '{}' variable: {}\".format(variable, len(duplicated_rows)))\n",
    "    print(\"\\n\")\n",
    "    if not duplicated_rows.empty:\n",
    "        print(\"Duplicate Rows:\")\n",
    "        print(duplicated_rows.head())\n",
    "    return duplicated_rows\n",
    "\n",
    "\n",
    "# detect outliers\n",
    "def detect_outliers(data, column):\n",
    "    Q1 = data[column].quantile(0.25)\n",
    "    Q3 = data[column].quantile(0.75)\n",
    "    IQR = Q3 - Q1\n",
    "    lower_bound = Q1 - 1.5 * IQR\n",
    "    upper_bound = Q3 + 1.5 * IQR\n",
    "    outliers = data[(data[column] < lower_bound) | (data[column] > upper_bound)]\n",
    "    return outliers\n",
    "\n",
    "# Function to perform univariate analysis on a variable\n",
    "def perform_univariate_analysis(variable):\n",
    "    # Descriptive Statistics\n",
    "    print(\"Descriptive Statistics:\")\n",
    "    print(calculate_descriptive_stats(variable))\n",
    "    print()\n",
    "\n",
    "    \n",
    "    # Missing Values\n",
    "    print(\"Missing Values:\")\n",
    "    print(check_missing_values(variable))\n",
    "    print()\n"
   ]
  },
  {
   "cell_type": "code",
   "execution_count": null,
   "metadata": {},
   "outputs": [],
   "source": []
  },
  {
   "attachments": {},
   "cell_type": "markdown",
   "metadata": {},
   "source": [
    "## **Company Name Exploration**"
   ]
  },
  {
   "attachments": {},
   "cell_type": "markdown",
   "metadata": {},
   "source": [
    "The **company name** variable is a categorical variable. It represents the names of different companies in the dataset.\n",
    "\n",
    "\n",
    "Data Cleaning Steps:\n",
    "- Data Exploration and Descriptive Statistics\n",
    "- Number of Company Names\n",
    "- Remove leading, trailing spaces and Standardize case\n",
    "- Detect duplicates\n",
    "- Handle missing values"
   ]
  },
  {
   "attachments": {},
   "cell_type": "markdown",
   "metadata": {},
   "source": [
    "### Data Exploration and Descriptive Statistics"
   ]
  },
  {
   "cell_type": "code",
   "execution_count": 16,
   "metadata": {},
   "outputs": [
    {
     "name": "stdout",
     "output_type": "stream",
     "text": [
      "Count of Unique Company Names: 87\n",
      "\n",
      "Most Common Company Name(s):\n",
      "Company Name\n",
      "Kratikal    2\n",
      "Licious     2\n",
      "Name: count, dtype: int64\n"
     ]
    }
   ],
   "source": [
    "# Calculate the count of unique company names\n",
    "unique_company_count = data_2019['Company Name'].nunique()\n",
    "print(\"Count of Unique Company Names: {}\".format(unique_company_count))\n",
    "\n",
    "# Examine the most common company names\n",
    "company_name_counts = data_2019['Company Name'].value_counts()\n",
    "most_common_names = company_name_counts[company_name_counts == company_name_counts.max()]\n",
    "print(\"\\nMost Common Company Name(s):\")\n",
    "print(most_common_names)"
   ]
  },
  {
   "cell_type": "markdown",
   "metadata": {},
   "source": [
    "### Number of Company Names"
   ]
  },
  {
   "cell_type": "code",
   "execution_count": 17,
   "metadata": {},
   "outputs": [
    {
     "name": "stdout",
     "output_type": "stream",
     "text": [
      "Count of Unique Company Names: 87\n"
     ]
    }
   ],
   "source": [
    "# Calculate the count of unique company names\n",
    "unique_company_count = data_2019['Company Name'].nunique()\n",
    "print(\"Count of Unique Company Names: {}\".format(unique_company_count))"
   ]
  },
  {
   "cell_type": "markdown",
   "metadata": {},
   "source": [
    "### Remove leading, trailing spaces and Standardize case"
   ]
  },
  {
   "cell_type": "code",
   "execution_count": 18,
   "metadata": {},
   "outputs": [],
   "source": [
    "# Remove leading and trailing spaces from the 'Company Name' column\n",
    "data_2019['Company Name'] = data_2019['Company Name'].str.strip()\n",
    "\n",
    "# standardize city name to lower case\n",
    "data_2019['Company Name'] = data_2019['Company Name'].str.title()"
   ]
  },
  {
   "cell_type": "markdown",
   "metadata": {},
   "source": [
    "### Detect Duplicates"
   ]
  },
  {
   "cell_type": "code",
   "execution_count": 19,
   "metadata": {},
   "outputs": [
    {
     "name": "stdout",
     "output_type": "stream",
     "text": [
      "\n",
      "\n",
      "\n",
      "Number of duplicates in 'Company Name' variable: 2\n",
      "\n",
      "\n",
      "Duplicate Rows:\n",
      "   Company Name  Year Founded    Headquarter      Sector  \\\n",
      "68      Licious        2015.0      Bangalore        Food   \n",
      "82     Kratikal           NaN  Uttar pradesh  Technology   \n",
      "\n",
      "                 Business Description                    Founders  \\\n",
      "68                   Online meat shop  Vivek Gupta, Abhay Hanjura   \n",
      "82  Provides cyber security solutions              Pavan Kushwaha   \n",
      "\n",
      "                                     Investor Funding Amount ($) Funding Round  \n",
      "68                            Vertex Ventures        $25,000,000      Series D  \n",
      "82  Gilda VC, Art Venture, Rajeev Chitrabhanu         $1,000,000  Pre-series A  \n"
     ]
    },
    {
     "data": {
      "text/html": [
       "<div>\n",
       "<style scoped>\n",
       "    .dataframe tbody tr th:only-of-type {\n",
       "        vertical-align: middle;\n",
       "    }\n",
       "\n",
       "    .dataframe tbody tr th {\n",
       "        vertical-align: top;\n",
       "    }\n",
       "\n",
       "    .dataframe thead th {\n",
       "        text-align: right;\n",
       "    }\n",
       "</style>\n",
       "<table border=\"1\" class=\"dataframe\">\n",
       "  <thead>\n",
       "    <tr style=\"text-align: right;\">\n",
       "      <th></th>\n",
       "      <th>Company Name</th>\n",
       "      <th>Year Founded</th>\n",
       "      <th>Headquarter</th>\n",
       "      <th>Sector</th>\n",
       "      <th>Business Description</th>\n",
       "      <th>Founders</th>\n",
       "      <th>Investor</th>\n",
       "      <th>Funding Amount ($)</th>\n",
       "      <th>Funding Round</th>\n",
       "    </tr>\n",
       "  </thead>\n",
       "  <tbody>\n",
       "    <tr>\n",
       "      <th>68</th>\n",
       "      <td>Licious</td>\n",
       "      <td>2015.0</td>\n",
       "      <td>Bangalore</td>\n",
       "      <td>Food</td>\n",
       "      <td>Online meat shop</td>\n",
       "      <td>Vivek Gupta, Abhay Hanjura</td>\n",
       "      <td>Vertex Ventures</td>\n",
       "      <td>$25,000,000</td>\n",
       "      <td>Series D</td>\n",
       "    </tr>\n",
       "    <tr>\n",
       "      <th>82</th>\n",
       "      <td>Kratikal</td>\n",
       "      <td>NaN</td>\n",
       "      <td>Uttar pradesh</td>\n",
       "      <td>Technology</td>\n",
       "      <td>Provides cyber security solutions</td>\n",
       "      <td>Pavan Kushwaha</td>\n",
       "      <td>Gilda VC, Art Venture, Rajeev Chitrabhanu</td>\n",
       "      <td>$1,000,000</td>\n",
       "      <td>Pre-series A</td>\n",
       "    </tr>\n",
       "  </tbody>\n",
       "</table>\n",
       "</div>"
      ],
      "text/plain": [
       "   Company Name  Year Founded    Headquarter      Sector  \\\n",
       "68      Licious        2015.0      Bangalore        Food   \n",
       "82     Kratikal           NaN  Uttar pradesh  Technology   \n",
       "\n",
       "                 Business Description                    Founders  \\\n",
       "68                   Online meat shop  Vivek Gupta, Abhay Hanjura   \n",
       "82  Provides cyber security solutions              Pavan Kushwaha   \n",
       "\n",
       "                                     Investor Funding Amount ($) Funding Round  \n",
       "68                            Vertex Ventures        $25,000,000      Series D  \n",
       "82  Gilda VC, Art Venture, Rajeev Chitrabhanu         $1,000,000  Pre-series A  "
      ]
     },
     "execution_count": 19,
     "metadata": {},
     "output_type": "execute_result"
    }
   ],
   "source": [
    "# check duplicates\n",
    "check_categorical_duplicates(data_2019, 'Company Name')"
   ]
  },
  {
   "cell_type": "markdown",
   "metadata": {},
   "source": [
    "### Handle missing values"
   ]
  },
  {
   "cell_type": "code",
   "execution_count": 20,
   "metadata": {},
   "outputs": [
    {
     "data": {
      "text/plain": [
       "0"
      ]
     },
     "execution_count": 20,
     "metadata": {},
     "output_type": "execute_result"
    }
   ],
   "source": [
    "# Check missing values\n",
    "check_missing_values(data_2019['Company Name'])"
   ]
  },
  {
   "cell_type": "code",
   "execution_count": null,
   "metadata": {},
   "outputs": [],
   "source": []
  },
  {
   "attachments": {},
   "cell_type": "markdown",
   "metadata": {},
   "source": [
    "## **Year Founded Exploration**"
   ]
  },
  {
   "attachments": {},
   "cell_type": "markdown",
   "metadata": {},
   "source": [
    "**The \"Year Founded\"** variable is a quantitative variable representing the year in which each company was founded.\n",
    "- Validate data format\n",
    "- Handle missing values\n",
    "- Identifying Outliers"
   ]
  },
  {
   "cell_type": "markdown",
   "metadata": {},
   "source": [
    "### Handle the missing values"
   ]
  },
  {
   "cell_type": "code",
   "execution_count": 21,
   "metadata": {},
   "outputs": [],
   "source": [
    "# Create an instance of the SimpleImputer with the median strategy\n",
    "array = data_2019['Year Founded'].values.reshape(-1,1)\n",
    "imputer = SimpleImputer(strategy='most_frequent')\n",
    "\n",
    "# Fit the imputer on the 'Year Founded' column and transform the column to impute missing values\n",
    "data_2019['Year Founded'] = imputer.fit_transform(array)"
   ]
  },
  {
   "cell_type": "markdown",
   "metadata": {},
   "source": [
    "### Validate data format"
   ]
  },
  {
   "cell_type": "code",
   "execution_count": 22,
   "metadata": {},
   "outputs": [],
   "source": [
    "# Convert the 'Year Founded' column to integer\n",
    "data_2019['Year Founded'] = data_2019['Year Founded'].astype(int)"
   ]
  },
  {
   "cell_type": "code",
   "execution_count": 23,
   "metadata": {},
   "outputs": [
    {
     "data": {
      "text/plain": [
       "0    2015\n",
       "1    2014\n",
       "2    2015\n",
       "3    2014\n",
       "4    2004\n",
       "Name: Year Founded, dtype: int32"
      ]
     },
     "execution_count": 23,
     "metadata": {},
     "output_type": "execute_result"
    }
   ],
   "source": [
    "data_2019['Year Founded'].head()"
   ]
  },
  {
   "cell_type": "markdown",
   "metadata": {},
   "source": [
    "### Detect Duplicates"
   ]
  },
  {
   "cell_type": "code",
   "execution_count": 24,
   "metadata": {},
   "outputs": [
    {
     "name": "stdout",
     "output_type": "stream",
     "text": [
      "\n",
      "\n",
      "\n",
      "Number of duplicates in 'Year Founded' variable: 77\n",
      "\n",
      "\n",
      "Duplicate Rows:\n",
      "  Company Name  Year Founded Headquarter           Sector  \\\n",
      "2     Eduisfun          2015      Mumbai           Edtech   \n",
      "3     Homelane          2014     Chennai  Interior design   \n",
      "5     Flytbase          2015        Pune       Technology   \n",
      "6        Finly          2015   Bangalore             SaaS   \n",
      "8    Quantiphi          2015         NaN        AI & Tech   \n",
      "\n",
      "                                Business Description  \\\n",
      "2            It aims to make learning fun via games.   \n",
      "3              Provides interior designing solutions   \n",
      "5                        A drone automation platform   \n",
      "6  It builds software products that makes work si...   \n",
      "8  It is an AI and big data services company prov...   \n",
      "\n",
      "                       Founders  \\\n",
      "2                 Jatin Solanki   \n",
      "3  Srikanth Iyer, Rama Harinath   \n",
      "5                   Nitin Gupta   \n",
      "6     Vivek AG, Veekshith C Rai   \n",
      "8                Renuka Ramnath   \n",
      "\n",
      "                                            Investor Funding Amount ($)  \\\n",
      "2     Deepak Parekh, Amitabh Bachchan, Piyush Pandey        $28,000,000   \n",
      "3  Evolvence India Fund (EIF), Pidilite Group, FJ...        $30,000,000   \n",
      "5                                        Undisclosed        Undisclosed   \n",
      "6  Social Capital, AngelList India, Gemba Capital...        Undisclosed   \n",
      "8               Multiples Alternate Asset Management        $20,000,000   \n",
      "\n",
      "   Funding Round  \n",
      "2  Fresh funding  \n",
      "3       Series D  \n",
      "5            NaN  \n",
      "6            NaN  \n",
      "8       Series A  \n"
     ]
    },
    {
     "data": {
      "text/html": [
       "<div>\n",
       "<style scoped>\n",
       "    .dataframe tbody tr th:only-of-type {\n",
       "        vertical-align: middle;\n",
       "    }\n",
       "\n",
       "    .dataframe tbody tr th {\n",
       "        vertical-align: top;\n",
       "    }\n",
       "\n",
       "    .dataframe thead th {\n",
       "        text-align: right;\n",
       "    }\n",
       "</style>\n",
       "<table border=\"1\" class=\"dataframe\">\n",
       "  <thead>\n",
       "    <tr style=\"text-align: right;\">\n",
       "      <th></th>\n",
       "      <th>Company Name</th>\n",
       "      <th>Year Founded</th>\n",
       "      <th>Headquarter</th>\n",
       "      <th>Sector</th>\n",
       "      <th>Business Description</th>\n",
       "      <th>Founders</th>\n",
       "      <th>Investor</th>\n",
       "      <th>Funding Amount ($)</th>\n",
       "      <th>Funding Round</th>\n",
       "    </tr>\n",
       "  </thead>\n",
       "  <tbody>\n",
       "    <tr>\n",
       "      <th>2</th>\n",
       "      <td>Eduisfun</td>\n",
       "      <td>2015</td>\n",
       "      <td>Mumbai</td>\n",
       "      <td>Edtech</td>\n",
       "      <td>It aims to make learning fun via games.</td>\n",
       "      <td>Jatin Solanki</td>\n",
       "      <td>Deepak Parekh, Amitabh Bachchan, Piyush Pandey</td>\n",
       "      <td>$28,000,000</td>\n",
       "      <td>Fresh funding</td>\n",
       "    </tr>\n",
       "    <tr>\n",
       "      <th>3</th>\n",
       "      <td>Homelane</td>\n",
       "      <td>2014</td>\n",
       "      <td>Chennai</td>\n",
       "      <td>Interior design</td>\n",
       "      <td>Provides interior designing solutions</td>\n",
       "      <td>Srikanth Iyer, Rama Harinath</td>\n",
       "      <td>Evolvence India Fund (EIF), Pidilite Group, FJ...</td>\n",
       "      <td>$30,000,000</td>\n",
       "      <td>Series D</td>\n",
       "    </tr>\n",
       "    <tr>\n",
       "      <th>5</th>\n",
       "      <td>Flytbase</td>\n",
       "      <td>2015</td>\n",
       "      <td>Pune</td>\n",
       "      <td>Technology</td>\n",
       "      <td>A drone automation platform</td>\n",
       "      <td>Nitin Gupta</td>\n",
       "      <td>Undisclosed</td>\n",
       "      <td>Undisclosed</td>\n",
       "      <td>NaN</td>\n",
       "    </tr>\n",
       "    <tr>\n",
       "      <th>6</th>\n",
       "      <td>Finly</td>\n",
       "      <td>2015</td>\n",
       "      <td>Bangalore</td>\n",
       "      <td>SaaS</td>\n",
       "      <td>It builds software products that makes work si...</td>\n",
       "      <td>Vivek AG, Veekshith C Rai</td>\n",
       "      <td>Social Capital, AngelList India, Gemba Capital...</td>\n",
       "      <td>Undisclosed</td>\n",
       "      <td>NaN</td>\n",
       "    </tr>\n",
       "    <tr>\n",
       "      <th>8</th>\n",
       "      <td>Quantiphi</td>\n",
       "      <td>2015</td>\n",
       "      <td>NaN</td>\n",
       "      <td>AI &amp; Tech</td>\n",
       "      <td>It is an AI and big data services company prov...</td>\n",
       "      <td>Renuka Ramnath</td>\n",
       "      <td>Multiples Alternate Asset Management</td>\n",
       "      <td>$20,000,000</td>\n",
       "      <td>Series A</td>\n",
       "    </tr>\n",
       "    <tr>\n",
       "      <th>...</th>\n",
       "      <td>...</td>\n",
       "      <td>...</td>\n",
       "      <td>...</td>\n",
       "      <td>...</td>\n",
       "      <td>...</td>\n",
       "      <td>...</td>\n",
       "      <td>...</td>\n",
       "      <td>...</td>\n",
       "      <td>...</td>\n",
       "    </tr>\n",
       "    <tr>\n",
       "      <th>84</th>\n",
       "      <td>Infra.Market</td>\n",
       "      <td>2015</td>\n",
       "      <td>Mumbai</td>\n",
       "      <td>Infratech</td>\n",
       "      <td>It connects client requirements to their suppl...</td>\n",
       "      <td>Aaditya Sharda, Souvik Sengupta</td>\n",
       "      <td>Tiger Global, Nexus Venture Partners, Accel Pa...</td>\n",
       "      <td>$20,000,000</td>\n",
       "      <td>Series A</td>\n",
       "    </tr>\n",
       "    <tr>\n",
       "      <th>85</th>\n",
       "      <td>Oyo</td>\n",
       "      <td>2013</td>\n",
       "      <td>Gurugram</td>\n",
       "      <td>Hospitality</td>\n",
       "      <td>Provides rooms for comfortable stay</td>\n",
       "      <td>Ritesh Agarwal</td>\n",
       "      <td>MyPreferred Transformation, Avendus Finance, S...</td>\n",
       "      <td>$693,000,000</td>\n",
       "      <td>NaN</td>\n",
       "    </tr>\n",
       "    <tr>\n",
       "      <th>86</th>\n",
       "      <td>Gomechanic</td>\n",
       "      <td>2016</td>\n",
       "      <td>Delhi</td>\n",
       "      <td>Automobile &amp; Technology</td>\n",
       "      <td>Find automobile repair and maintenance service...</td>\n",
       "      <td>Amit Bhasin, Kushal Karwa, Nitin Rana, Rishabh...</td>\n",
       "      <td>Sequoia Capital</td>\n",
       "      <td>$5,000,000</td>\n",
       "      <td>Series B</td>\n",
       "    </tr>\n",
       "    <tr>\n",
       "      <th>87</th>\n",
       "      <td>Spinny</td>\n",
       "      <td>2015</td>\n",
       "      <td>Delhi</td>\n",
       "      <td>Automobile</td>\n",
       "      <td>Online car retailer</td>\n",
       "      <td>Niraj Singh, Ramanshu Mahaur, Ganesh Pawar, Mo...</td>\n",
       "      <td>Norwest Venture Partners, General Catalyst, Fu...</td>\n",
       "      <td>$50,000,000</td>\n",
       "      <td>NaN</td>\n",
       "    </tr>\n",
       "    <tr>\n",
       "      <th>88</th>\n",
       "      <td>Ess Kay Fincorp</td>\n",
       "      <td>2015</td>\n",
       "      <td>Rajasthan</td>\n",
       "      <td>Banking</td>\n",
       "      <td>Organised Non-Banking Finance Company</td>\n",
       "      <td>Rajendra Setia</td>\n",
       "      <td>TPG, Norwest Venture Partners, Evolvence India</td>\n",
       "      <td>$33,000,000</td>\n",
       "      <td>NaN</td>\n",
       "    </tr>\n",
       "  </tbody>\n",
       "</table>\n",
       "<p>77 rows × 9 columns</p>\n",
       "</div>"
      ],
      "text/plain": [
       "       Company Name  Year Founded Headquarter                   Sector  \\\n",
       "2          Eduisfun          2015      Mumbai                   Edtech   \n",
       "3          Homelane          2014     Chennai          Interior design   \n",
       "5          Flytbase          2015        Pune               Technology   \n",
       "6             Finly          2015   Bangalore                     SaaS   \n",
       "8         Quantiphi          2015         NaN                AI & Tech   \n",
       "..              ...           ...         ...                      ...   \n",
       "84     Infra.Market          2015      Mumbai                Infratech   \n",
       "85              Oyo          2013    Gurugram              Hospitality   \n",
       "86       Gomechanic          2016       Delhi  Automobile & Technology   \n",
       "87           Spinny          2015       Delhi               Automobile   \n",
       "88  Ess Kay Fincorp          2015   Rajasthan                  Banking   \n",
       "\n",
       "                                 Business Description  \\\n",
       "2             It aims to make learning fun via games.   \n",
       "3               Provides interior designing solutions   \n",
       "5                         A drone automation platform   \n",
       "6   It builds software products that makes work si...   \n",
       "8   It is an AI and big data services company prov...   \n",
       "..                                                ...   \n",
       "84  It connects client requirements to their suppl...   \n",
       "85                Provides rooms for comfortable stay   \n",
       "86  Find automobile repair and maintenance service...   \n",
       "87                                Online car retailer   \n",
       "88              Organised Non-Banking Finance Company   \n",
       "\n",
       "                                             Founders  \\\n",
       "2                                       Jatin Solanki   \n",
       "3                        Srikanth Iyer, Rama Harinath   \n",
       "5                                         Nitin Gupta   \n",
       "6                           Vivek AG, Veekshith C Rai   \n",
       "8                                      Renuka Ramnath   \n",
       "..                                                ...   \n",
       "84                    Aaditya Sharda, Souvik Sengupta   \n",
       "85                                     Ritesh Agarwal   \n",
       "86  Amit Bhasin, Kushal Karwa, Nitin Rana, Rishabh...   \n",
       "87  Niraj Singh, Ramanshu Mahaur, Ganesh Pawar, Mo...   \n",
       "88                                     Rajendra Setia   \n",
       "\n",
       "                                             Investor Funding Amount ($)  \\\n",
       "2      Deepak Parekh, Amitabh Bachchan, Piyush Pandey        $28,000,000   \n",
       "3   Evolvence India Fund (EIF), Pidilite Group, FJ...        $30,000,000   \n",
       "5                                         Undisclosed        Undisclosed   \n",
       "6   Social Capital, AngelList India, Gemba Capital...        Undisclosed   \n",
       "8                Multiples Alternate Asset Management        $20,000,000   \n",
       "..                                                ...                ...   \n",
       "84  Tiger Global, Nexus Venture Partners, Accel Pa...        $20,000,000   \n",
       "85  MyPreferred Transformation, Avendus Finance, S...       $693,000,000   \n",
       "86                                    Sequoia Capital         $5,000,000   \n",
       "87  Norwest Venture Partners, General Catalyst, Fu...        $50,000,000   \n",
       "88     TPG, Norwest Venture Partners, Evolvence India        $33,000,000   \n",
       "\n",
       "    Funding Round  \n",
       "2   Fresh funding  \n",
       "3        Series D  \n",
       "5             NaN  \n",
       "6             NaN  \n",
       "8        Series A  \n",
       "..            ...  \n",
       "84       Series A  \n",
       "85            NaN  \n",
       "86       Series B  \n",
       "87            NaN  \n",
       "88            NaN  \n",
       "\n",
       "[77 rows x 9 columns]"
      ]
     },
     "execution_count": 24,
     "metadata": {},
     "output_type": "execute_result"
    }
   ],
   "source": [
    "# check duplicates\n",
    "check_categorical_duplicates(data_2019, 'Year Founded')"
   ]
  },
  {
   "cell_type": "code",
   "execution_count": null,
   "metadata": {},
   "outputs": [],
   "source": []
  },
  {
   "attachments": {},
   "cell_type": "markdown",
   "metadata": {},
   "source": [
    "## **Explore Headquarter**"
   ]
  },
  {
   "attachments": {},
   "cell_type": "markdown",
   "metadata": {},
   "source": [
    "**The \"Headquater\"** variable is a categorical variable representing the city in which each company is Located.\n",
    "- Remove leading, trailing spaces and Standardize case\n",
    "- Handle missing values\n",
    "- Number of cities\n",
    "- Examine the most common cities"
   ]
  },
  {
   "attachments": {},
   "cell_type": "markdown",
   "metadata": {},
   "source": [
    "### Remove leading, trailing spaces and Standardize case"
   ]
  },
  {
   "cell_type": "code",
   "execution_count": 25,
   "metadata": {},
   "outputs": [],
   "source": [
    "# Standardize case\n",
    "data_2019['Headquarter'] = data_2019['Headquarter'].str.title()\n",
    "\n",
    "# Remove leading and trailing spaces\n",
    "data_2019['Headquarter'] = data_2019['Headquarter'].str.strip()"
   ]
  },
  {
   "cell_type": "markdown",
   "metadata": {},
   "source": [
    "### Handle the missing Values"
   ]
  },
  {
   "cell_type": "code",
   "execution_count": 26,
   "metadata": {},
   "outputs": [],
   "source": [
    "# fill the null categorical values with 'Unknown'\n",
    "data_2019['Headquarter'] = data_2019['Headquarter'].fillna('Unknown')"
   ]
  },
  {
   "cell_type": "markdown",
   "metadata": {},
   "source": [
    "### All Headquarter cities"
   ]
  },
  {
   "cell_type": "code",
   "execution_count": 27,
   "metadata": {},
   "outputs": [
    {
     "name": "stdout",
     "output_type": "stream",
     "text": [
      "Count of Unique Cities: 18\n"
     ]
    }
   ],
   "source": [
    "# Calculate the count of unique cities\n",
    "unique_city_count = data_2019['Headquarter'].nunique()\n",
    "print(\"Count of Unique Cities: {}\".format(unique_city_count))"
   ]
  },
  {
   "cell_type": "markdown",
   "metadata": {},
   "source": [
    "### Examine the most common cities"
   ]
  },
  {
   "cell_type": "code",
   "execution_count": 28,
   "metadata": {},
   "outputs": [
    {
     "name": "stdout",
     "output_type": "stream",
     "text": [
      "\n",
      "Most Common Cities:\n",
      "Headquarter\n",
      "Bangalore    21\n",
      "Name: count, dtype: int64\n"
     ]
    }
   ],
   "source": [
    "# Examine the most common cities\n",
    "city_counts = data_2019['Headquarter'].value_counts()\n",
    "most_common_cities = city_counts[city_counts == city_counts.max()]\n",
    "print(\"\\nMost Common Cities:\")\n",
    "print(most_common_cities)"
   ]
  },
  {
   "cell_type": "code",
   "execution_count": null,
   "metadata": {},
   "outputs": [],
   "source": []
  },
  {
   "attachments": {},
   "cell_type": "markdown",
   "metadata": {},
   "source": [
    "## **Explore Sector**"
   ]
  },
  {
   "attachments": {},
   "cell_type": "markdown",
   "metadata": {},
   "source": [
    " INTRO\n",
    "\n",
    "Data Cleaning Steps:\n",
    "- Data Exploration and Descriptive Statistics\n",
    "- Clean sector name\n",
    "- Remove leading, trailing spaces and Standardize case\n",
    "- Handle missing values"
   ]
  },
  {
   "cell_type": "markdown",
   "metadata": {},
   "source": [
    "### Data Exploration and Descriptive Statistics"
   ]
  },
  {
   "cell_type": "code",
   "execution_count": 29,
   "metadata": {},
   "outputs": [
    {
     "name": "stdout",
     "output_type": "stream",
     "text": [
      "Count of Unique Sectors: 52\n",
      "\n",
      "Most Common Sectors:\n",
      "Sector\n",
      "Edtech    7\n",
      "Name: count, dtype: int64\n"
     ]
    }
   ],
   "source": [
    "# Calculate the count of unique sectors\n",
    "unique_sector_count = data_2019['Sector'].nunique()\n",
    "print(\"Count of Unique Sectors: {}\".format(unique_sector_count))\n",
    "\n",
    "# Examine the most common sectors\n",
    "sector_counts = data_2019['Sector'].value_counts()\n",
    "most_common_sectors = sector_counts[sector_counts == sector_counts.max()]\n",
    "print(\"\\nMost Common Sectors:\")\n",
    "print(most_common_sectors)"
   ]
  },
  {
   "attachments": {},
   "cell_type": "markdown",
   "metadata": {},
   "source": [
    "### Clean sector names"
   ]
  },
  {
   "cell_type": "code",
   "execution_count": 30,
   "metadata": {},
   "outputs": [],
   "source": [
    "# cleaning sectory names\n",
    "sector_replacements = {\n",
    "    'AI & Tech': 'AI',\n",
    "    'Ai': 'AI',\n",
    "    'Automobile & Technology': 'Automobile',\n",
    "    'Automotive tech': 'Automobile',\n",
    "    'Automotive Tech': 'Automobile',\n",
    "    'B2B Supply Chain': 'B2B',\n",
    "    'E-commerce & AR': 'E-commerce',\n",
    "    'E-commerce & Ar': 'E-commerce',\n",
    "    'E-Commerce & Ar': 'E-commerce',\n",
    "    'Ecommerce': 'E-commerce',\n",
    "    'Food & Nutrition': 'Food',\n",
    "    'Food & tech': 'Food',\n",
    "    'Food & Tech': 'Food',\n",
    "    'Food Tech': 'Food',\n",
    "    'Foodtech': 'Food',\n",
    "    'Games': 'Gaming',\n",
    "    'Healthcare': 'Health',\n",
    "    'Healthtech': 'Health',\n",
    "    'Manufacturing': 'Industrial',\n",
    "    'Marketing & Customer loyalty': 'Marketing',\n",
    "    'Marketing & Customer Loyalty': 'Marketing',\n",
    "    'Pharmaceutical': 'Pharma',\n",
    "    'Robotics & AI': 'AI',\n",
    "    'Robotics & Ai': 'AI',\n",
    "    'SaaS': 'Software',\n",
    "    'Safety tech': 'Security',\n",
    "    'Social Media': 'SocialMedia',\n",
    "    'Transport & Rentals': 'Transportation',\n",
    "    'Virtual Banking': 'Banking',\n",
    "    'Yoga & wellness': 'Wellness',\n",
    "    'Hr Tech': \"Human Resource\",\n",
    "    'Ai & Tech': 'AI',\n",
    "}\n",
    "data_2019['Sector'] = data_2019['Sector'].replace(sector_replacements)"
   ]
  },
  {
   "cell_type": "markdown",
   "metadata": {},
   "source": [
    "### Remove leading, trailing spaces and Standardize case"
   ]
  },
  {
   "cell_type": "code",
   "execution_count": 31,
   "metadata": {},
   "outputs": [],
   "source": [
    "# Standardize case\n",
    "data_2019['Sector'] = data_2019['Sector'].str.title()\n",
    "\n",
    "# Remove leading and trailing spaces\n",
    "data_2019['Sector'] = data_2019['Sector'].str.strip()"
   ]
  },
  {
   "cell_type": "markdown",
   "metadata": {},
   "source": [
    "### Handle missing values"
   ]
  },
  {
   "cell_type": "code",
   "execution_count": 32,
   "metadata": {},
   "outputs": [],
   "source": [
    "# Handle missing values\n",
    "data_2019['Sector'] = data_2019['Sector'].fillna('Unknown')"
   ]
  },
  {
   "attachments": {},
   "cell_type": "markdown",
   "metadata": {},
   "source": [
    "## **Explore Business Description**"
   ]
  },
  {
   "attachments": {},
   "cell_type": "markdown",
   "metadata": {},
   "source": [
    "The **Intro** variable is a categorical variable. It represents the names of different companies in the dataset.\n",
    "\n",
    "- Text cleaning"
   ]
  },
  {
   "cell_type": "markdown",
   "metadata": {},
   "source": [
    "### Text cleaning"
   ]
  },
  {
   "cell_type": "code",
   "execution_count": 33,
   "metadata": {},
   "outputs": [],
   "source": [
    "# Text cleaning\n",
    "data_2019['Business Description'] = data_2019['Business Description'].str.replace('[^\\w\\s]', '')\n",
    "data_2019['Business Description'] = data_2019['Business Description'].str.lower()"
   ]
  },
  {
   "cell_type": "code",
   "execution_count": null,
   "metadata": {},
   "outputs": [],
   "source": []
  },
  {
   "attachments": {},
   "cell_type": "markdown",
   "metadata": {},
   "source": [
    "## **Explore Founders**"
   ]
  },
  {
   "attachments": {},
   "cell_type": "markdown",
   "metadata": {},
   "source": [
    "The **Intro** variable is a categorical variable. It represents the names of different companies in the dataset.\n",
    "\n",
    "\n",
    "Data Cleaning Steps:\n",
    "- Data Exploration and Descriptive Statistics\n",
    "- Remove leading, trailing spaces and Standardize case\n",
    "- Handle missing values"
   ]
  },
  {
   "cell_type": "markdown",
   "metadata": {},
   "source": [
    "### Data Exploration and Descriptive Statistics"
   ]
  },
  {
   "cell_type": "code",
   "execution_count": 34,
   "metadata": {},
   "outputs": [
    {
     "name": "stdout",
     "output_type": "stream",
     "text": [
      "Count of Unique Founders: 85\n",
      "\n",
      "Most Common Founders(s):\n",
      "Founders\n",
      "Vivek Gupta, Abhay Hanjura    2\n",
      "Name: count, dtype: int64\n"
     ]
    }
   ],
   "source": [
    "# Calculate the count of unique founder names\n",
    "unique_founders_count = data_2019['Founders'].nunique()\n",
    "print(\"Count of Unique Founders: {}\".format(unique_founders_count))\n",
    "\n",
    "# Examine the most common Founderss\n",
    "founders_name_counts = data_2019['Founders'].value_counts()\n",
    "most_common_founders = founders_name_counts[founders_name_counts == founders_name_counts.max()]\n",
    "print(\"\\nMost Common Founders(s):\")\n",
    "print(most_common_founders)"
   ]
  },
  {
   "cell_type": "markdown",
   "metadata": {},
   "source": [
    "### Remove leading, trailing spaces and Standardize case\n"
   ]
  },
  {
   "cell_type": "code",
   "execution_count": 35,
   "metadata": {},
   "outputs": [],
   "source": [
    "# Cleaning founder names\n",
    "data_2019['Founders'] = data_2019['Founders'].map(lambda x:str(x).split(',')[0])"
   ]
  },
  {
   "cell_type": "markdown",
   "metadata": {},
   "source": [
    "### Handle missing values\n"
   ]
  },
  {
   "cell_type": "code",
   "execution_count": 36,
   "metadata": {},
   "outputs": [],
   "source": [
    "# Replacing 'Unknown' with an empty string for single Founders\n",
    "data_2019['Founders'] = data_2019['Founders'].replace('', 'Unknown')\n",
    "\n",
    "# replace all the null values with 'Unknown'\n",
    "data_2019['Founders'] = data_2019['Founders'].fillna('Unknown')"
   ]
  },
  {
   "cell_type": "code",
   "execution_count": null,
   "metadata": {},
   "outputs": [],
   "source": []
  },
  {
   "attachments": {},
   "cell_type": "markdown",
   "metadata": {},
   "source": [
    "## **Explore Investor**"
   ]
  },
  {
   "cell_type": "markdown",
   "metadata": {},
   "source": [
    "The **variable** variable is a categorical variable. It represents the names of different companies in the dataset.\n",
    "\n",
    "\n",
    "Data Cleaning Steps:\n",
    "- Data Exploration and Descriptive Statistics\n",
    "- Remove leading, trailing spaces and Standardize case\n",
    "- Detect duplicates\n",
    "- Handle missing values"
   ]
  },
  {
   "cell_type": "markdown",
   "metadata": {},
   "source": [
    "### Data Exploration and Descriptive Statistics"
   ]
  },
  {
   "cell_type": "code",
   "execution_count": 37,
   "metadata": {},
   "outputs": [
    {
     "name": "stdout",
     "output_type": "stream",
     "text": [
      "Count of Unique Investors: 86\n",
      "\n",
      "Most Common Investor(s):\n",
      "Investor\n",
      "Undisclosed    3\n",
      "Name: count, dtype: int64\n"
     ]
    }
   ],
   "source": [
    "# Calculate the count of unique Investor names\n",
    "unique_investors_count = data_2019['Investor'].nunique()\n",
    "print(\"Count of Unique Investors: {}\".format(unique_investors_count))\n",
    "\n",
    "# Examine the most common Investors\n",
    "investors_name_counts = data_2019['Investor'].value_counts()\n",
    "most_common_Investors = investors_name_counts[investors_name_counts == investors_name_counts.max()]\n",
    "print(\"\\nMost Common Investor(s):\")\n",
    "print(most_common_Investors)"
   ]
  },
  {
   "cell_type": "markdown",
   "metadata": {},
   "source": [
    "### Remove leading, trailing spaces and Standardize case"
   ]
  },
  {
   "cell_type": "code",
   "execution_count": 38,
   "metadata": {},
   "outputs": [],
   "source": [
    "# Cleaning Investor names\n",
    "data_2019['Investor'] = data_2019['Investor'].str.strip()\n",
    "data_2019['Investor'] = data_2019['Investor'].str.split(',')\n",
    "\n",
    "# Formatting Investors\n",
    "data_2019['Investor'] = data_2019['Investor'].apply(lambda x: ' & '.join([str(name).strip() for name in x]))"
   ]
  },
  {
   "cell_type": "code",
   "execution_count": 39,
   "metadata": {},
   "outputs": [
    {
     "data": {
      "text/plain": [
       "0                                 Sixth Sense Ventures\n",
       "1                                     General Atlantic\n",
       "2     Deepak Parekh & Amitabh Bachchan & Piyush Pandey\n",
       "3    Evolvence India Fund (EIF) & Pidilite Group & ...\n",
       "4             Innovation in Food and Agriculture (IFA)\n",
       "5                                          Undisclosed\n",
       "6    Social Capital & AngelList India & Gemba Capit...\n",
       "7         Gilda VC & Art Venture & Rajeev Chitrabhanu.\n",
       "8                 Multiples Alternate Asset Management\n",
       "9                                             SoftBank\n",
       "Name: Investor, dtype: object"
      ]
     },
     "execution_count": 39,
     "metadata": {},
     "output_type": "execute_result"
    }
   ],
   "source": [
    "data_2019['Investor'].head(10)"
   ]
  },
  {
   "cell_type": "markdown",
   "metadata": {},
   "source": [
    "### Handle missing values\n"
   ]
  },
  {
   "cell_type": "code",
   "execution_count": 40,
   "metadata": {},
   "outputs": [],
   "source": [
    "# Replacing 'Unknown' with an empty string for single Investor\n",
    "data_2019['Investor'] = data_2019['Investor'].replace('','Unknown')\n",
    "\n",
    "# replace all the null values with 'Unknown'\n",
    "data_2019['Investor'] = data_2019['Investor'].fillna('Unknown')"
   ]
  },
  {
   "cell_type": "code",
   "execution_count": null,
   "metadata": {},
   "outputs": [],
   "source": []
  },
  {
   "attachments": {},
   "cell_type": "markdown",
   "metadata": {},
   "source": [
    "## **Explore Funding Amount**"
   ]
  },
  {
   "attachments": {},
   "cell_type": "markdown",
   "metadata": {},
   "source": [
    "The **company name** variable is a categorical variable. It represents the names of different companies in the dataset.\n",
    "\n",
    "\n",
    "Data Cleaning Steps:\n",
    "- Data Exploration and Descriptive Statistics\n",
    "- Remove and replacing empty spaces, leading and trailing spaces\n",
    "- Handle missing values\n",
    "- Visualize the distribution\n",
    "- Detecting and removing Outliers"
   ]
  },
  {
   "cell_type": "code",
   "execution_count": 41,
   "metadata": {},
   "outputs": [
    {
     "data": {
      "text/plain": [
       "0       $6,300,000\n",
       "1     $150,000,000\n",
       "2      $28,000,000\n",
       "3      $30,000,000\n",
       "4       $6,000,000\n",
       "          ...     \n",
       "84     $20,000,000\n",
       "85    $693,000,000\n",
       "86      $5,000,000\n",
       "87     $50,000,000\n",
       "88     $33,000,000\n",
       "Name: Funding Amount ($), Length: 89, dtype: object"
      ]
     },
     "execution_count": 41,
     "metadata": {},
     "output_type": "execute_result"
    }
   ],
   "source": [
    "\n",
    "data_2019['Funding Amount ($)']"
   ]
  },
  {
   "cell_type": "markdown",
   "metadata": {},
   "source": [
    "### Data Exploration and Descriptive Statistics"
   ]
  },
  {
   "cell_type": "code",
   "execution_count": 42,
   "metadata": {},
   "outputs": [
    {
     "name": "stdout",
     "output_type": "stream",
     "text": [
      "Descriptive Statistics:\n",
      "count              89\n",
      "unique             50\n",
      "top       Undisclosed\n",
      "freq               12\n",
      "Name: Funding Amount ($), dtype: object\n",
      "\n"
     ]
    }
   ],
   "source": [
    "# Data Exploration and Descriptive Statistics\n",
    "print(\"Descriptive Statistics:\")\n",
    "print(data_2019['Funding Amount ($)'].describe())\n",
    "print()"
   ]
  },
  {
   "attachments": {},
   "cell_type": "markdown",
   "metadata": {},
   "source": [
    "### Remove and replacing empty spaces, leading and trailing spaces"
   ]
  },
  {
   "cell_type": "code",
   "execution_count": 43,
   "metadata": {},
   "outputs": [],
   "source": [
    "# Remove the dollar sign\n",
    "data_2019['Funding Amount ($)'] = data_2019['Funding Amount ($)'].str.replace('$','').replace(',', '', regex=True)\n",
    "\n",
    "# Cleaning the Funding Amount ($)\n",
    "data_2019['Funding Amount ($)'] = pd.to_numeric(data_2019['Funding Amount ($)'], errors='coerce')"
   ]
  },
  {
   "cell_type": "markdown",
   "metadata": {},
   "source": [
    "### Handle Undisclosed Values"
   ]
  },
  {
   "cell_type": "code",
   "execution_count": 44,
   "metadata": {},
   "outputs": [],
   "source": [
    "# handling undisclosed\n",
    "data_2019['Funding Amount ($)'] = data_2019['Funding Amount ($)'].replace('Undisclosed', np.nan)"
   ]
  },
  {
   "cell_type": "code",
   "execution_count": 45,
   "metadata": {},
   "outputs": [],
   "source": [
    "# Create an instance of the SimpleImputer with the median strategy\n",
    "imputer = SimpleImputer(strategy='median')\n",
    "\n",
    "# Fit the imputer on the 'Year Founded' column and transform the column to impute missing values\n",
    "data_2019['Funding Amount ($)'] = imputer.fit_transform(data_2019[['Funding Amount ($)']])"
   ]
  },
  {
   "cell_type": "markdown",
   "metadata": {},
   "source": [
    "### Detecting and removing Outliers"
   ]
  },
  {
   "cell_type": "markdown",
   "metadata": {},
   "source": [
    "Box plot to visualize outlier"
   ]
  },
  {
   "cell_type": "code",
   "execution_count": 46,
   "metadata": {},
   "outputs": [
    {
     "data": {
      "text/plain": [
       "count    8.900000e+01\n",
       "mean     3.829700e+07\n",
       "std      1.035994e+08\n",
       "min      1.000000e+05\n",
       "25%      4.000000e+06\n",
       "50%      6.000000e+06\n",
       "75%      2.600000e+07\n",
       "max      6.930000e+08\n",
       "Name: Funding Amount ($), dtype: float64"
      ]
     },
     "execution_count": 46,
     "metadata": {},
     "output_type": "execute_result"
    }
   ],
   "source": [
    "data_2019['Funding Amount ($)'].describe()"
   ]
  },
  {
   "cell_type": "code",
   "execution_count": 47,
   "metadata": {},
   "outputs": [
    {
     "data": {
      "image/png": "[encoded data removed]",
      "text/plain": [
       "<Figure size 800x600 with 1 Axes>"
      ]
     },
     "metadata": {},
     "output_type": "display_data"
    }
   ],
   "source": [
    "# Box Plot to visualize outliers\n",
    "plt.figure(figsize=(8, 6))\n",
    "sns.boxplot(x=data_2019['Funding Amount ($)'])\n",
    "plt.title('Box Plot - Funding Amount ($)')\n",
    "plt.xlabel('Funding Amount ($)')\n",
    "plt.show()"
   ]
  },
  {
   "cell_type": "markdown",
   "metadata": {},
   "source": [
    "### Handle Outliers"
   ]
  },
  {
   "cell_type": "code",
   "execution_count": 48,
   "metadata": {},
   "outputs": [
    {
     "name": "stdout",
     "output_type": "stream",
     "text": [
      "Number of Outliers: 10\n",
      "\n",
      "Number of Outliers after Handling: 7\n"
     ]
    }
   ],
   "source": [
    "# Detecting outliers:\n",
    "outliers = detect_outliers(data_2019, 'Funding Amount ($)')\n",
    "print(\"Number of Outliers: {}\".format(len(outliers)))\n",
    "print()\n",
    "\n",
    "# removing outliers:\n",
    "data_2019 = data_2019[~data_2019['Funding Amount ($)'].isin(outliers['Funding Amount ($)'])]\n",
    "\n",
    "# Verify if outliers were handled\n",
    "outliers_after_handling = detect_outliers(data_2019, 'Funding Amount ($)')\n",
    "print(\"Number of Outliers after Handling: {}\".format(len(outliers_after_handling)))"
   ]
  },
  {
   "cell_type": "markdown",
   "metadata": {},
   "source": [
    "### After handling the outliers"
   ]
  },
  {
   "cell_type": "code",
   "execution_count": 49,
   "metadata": {},
   "outputs": [
    {
     "data": {
      "image/png": "[encoded data removed]",
      "text/plain": [
       "<Figure size 800x600 with 1 Axes>"
      ]
     },
     "metadata": {},
     "output_type": "display_data"
    }
   ],
   "source": [
    "# Box Plot to visualize outliers\n",
    "plt.figure(figsize=(8, 6))\n",
    "sns.boxplot(x=data_2019['Funding Amount ($)'])\n",
    "plt.title('Box Plot - Funding Amount ($)')\n",
    "plt.xlabel('Funding Amount ($)')\n",
    "plt.show()"
   ]
  },
  {
   "cell_type": "code",
   "execution_count": 50,
   "metadata": {},
   "outputs": [
    {
     "name": "stdout",
     "output_type": "stream",
     "text": [
      "\n",
      "Number of Outliers reduced to: 7\n",
      "\n"
     ]
    }
   ],
   "source": [
    "# Detecting outliers:\n",
    "outliers = detect_outliers(data_2019, 'Funding Amount ($)')\n",
    "print(\"\\nNumber of Outliers reduced to: {}\".format(len(outliers)))\n",
    "print()"
   ]
  },
  {
   "cell_type": "code",
   "execution_count": null,
   "metadata": {},
   "outputs": [],
   "source": []
  },
  {
   "attachments": {},
   "cell_type": "markdown",
   "metadata": {},
   "source": [
    "## **Explore Funding Round**"
   ]
  },
  {
   "cell_type": "markdown",
   "metadata": {},
   "source": [
    "### Clean Funding Round names"
   ]
  },
  {
   "cell_type": "code",
   "execution_count": 51,
   "metadata": {},
   "outputs": [],
   "source": [
    "#cleaning Funding round names\n",
    "funding_round_replacement = {\n",
    "    \"Seed Round\" : \"Seed\",\n",
    "    \"Pre series A\": \"Pre-series A\",\n",
    "    \"Pre Series A\" : \"Pre-series A\" ,\n",
    "    \"Seed round\" :   \"Seed\",\n",
    "    \"Pre seed round\" :\"Pre-seed\",\n",
    "    \"Series B2\" :    \"Series B\",\n",
    "    \"Pre series B\" : \"Pre-series B\",\n",
    "    \"Seed Funding\" : \"Seed\",\n",
    "    \"Pre-Series B\" : \"Pre-series B\",\n",
    "    \"Pre-Seed\"  :    \"Pre-seed\",\n",
    "    \"Seed funding\" : \"Seed\",\n",
    "    \"Pre-seed Round\" :\"Pre-seed\",\n",
    "    \"Series E2\" :     \"Series E\",\n",
    "    \"Pre series A1\" : \"Pre-series A\",\n",
    "    \"Series D1\" :     \"Series\",\n",
    "    \"Pre seed Round\" :\"Pre-seed\",\n",
    "    \"Pre series C\"  : \"Pre-Series C\",\n",
    "    \"Bridge Round\" :  \"Bridge\",\n",
    "    \"Series A-1\" :    \"Series\",\n",
    "    \"Pre- series A\":  \"Pre-series A\",\n",
    "    \"Seed Investment\" :\"Seed\"\n",
    "}\n",
    "data_2019['Funding Round'] = data_2019['Funding Round'].replace(funding_round_replacement)"
   ]
  },
  {
   "cell_type": "markdown",
   "metadata": {},
   "source": [
    "### Handle missing values"
   ]
  },
  {
   "cell_type": "code",
   "execution_count": 52,
   "metadata": {},
   "outputs": [],
   "source": [
    "data_2019['Funding Round'] = data_2019['Funding Round'].fillna('Unknown')"
   ]
  },
  {
   "cell_type": "markdown",
   "metadata": {},
   "source": [
    "## Preview after Data cleaning"
   ]
  },
  {
   "cell_type": "markdown",
   "metadata": {},
   "source": [
    "### check for any missing values in the dataset"
   ]
  },
  {
   "cell_type": "code",
   "execution_count": 53,
   "metadata": {},
   "outputs": [
    {
     "name": "stdout",
     "output_type": "stream",
     "text": [
      "\n",
      "\n",
      " No missing values found. Data cleaning is complete\n"
     ]
    },
    {
     "data": {
      "image/png": "[encoded data removed]",
      "text/plain": [
       "<Figure size 640x480 with 2 Axes>"
      ]
     },
     "metadata": {},
     "output_type": "display_data"
    }
   ],
   "source": [
    "# check for any missing values\n",
    "missing_values = data_2019.isnull().sum()\n",
    "if missing_values.any():\n",
    "    print(\"\\n\\nMissing values still exist in the dataset\")\n",
    "else:\n",
    "    print(\"\\n\\n No missing values found. Data cleaning is complete\")\n",
    "\n",
    "# plot missing values\n",
    "plot_missing_values_heatmap(data_2019)"
   ]
  },
  {
   "cell_type": "markdown",
   "metadata": {},
   "source": [
    "### Check for Duplicates"
   ]
  },
  {
   "cell_type": "code",
   "execution_count": 54,
   "metadata": {},
   "outputs": [
    {
     "name": "stdout",
     "output_type": "stream",
     "text": [
      "\n",
      "\n",
      "No duplicate records found. Data cleaning is complete.\n"
     ]
    }
   ],
   "source": [
    "duplicates = data_2019.duplicated()\n",
    "if duplicates.any():\n",
    "    print(\"\\n\\nDuplicate records still exist in the dataset.\")\n",
    "else:\n",
    "    print(\"\\n\\nNo duplicate records found. Data cleaning is complete.\")\n"
   ]
  }
 ],
 "metadata": {
  "kernelspec": {
   "display_name": "robert",
   "language": "python",
   "name": "python3"
  },
  "language_info": {
   "codemirror_mode": {
    "name": "ipython",
    "version": 3
   },
   "file_extension": ".py",
   "mimetype": "text/x-python",
   "name": "python",
   "nbconvert_exporter": "python",
   "pygments_lexer": "ipython3",
   "version": "3.9.16"
  },
  "orig_nbformat": 4
 },
 "nbformat": 4,
 "nbformat_minor": 2
}
